{
 "cells": [
  {
   "cell_type": "markdown",
   "id": "41541ee3",
   "metadata": {},
   "source": [
    "### Learning objective\n",
    "- Define ML\n",
    "- Define Supervised learning\n",
    "- Write and run Python code in Jupyter Notebooks\n",
    "- Define a regression model\n",
    "- Implement and visulaize a cost function\n",
    "- Implement gradient descent\n",
    "- Optimize a regression model using gradient descent"
   ]
  },
  {
   "cell_type": "markdown",
   "id": "a40b09a4",
   "metadata": {},
   "source": [
    "### Applications of ML\n",
    "- Speech recognition\n",
    "- computer vision for Google maps\n",
    "- Street view images \n",
    "- Payment fraud\n",
    "- Self driving cars."
   ]
  },
  {
   "cell_type": "code",
   "execution_count": null,
   "id": "19712cc8",
   "metadata": {},
   "outputs": [],
   "source": []
  }
 ],
 "metadata": {
  "kernelspec": {
   "display_name": "Python 3 (ipykernel)",
   "language": "python",
   "name": "python3"
  },
  "language_info": {
   "codemirror_mode": {
    "name": "ipython",
    "version": 3
   },
   "file_extension": ".py",
   "mimetype": "text/x-python",
   "name": "python",
   "nbconvert_exporter": "python",
   "pygments_lexer": "ipython3",
   "version": "3.11.5"
  }
 },
 "nbformat": 4,
 "nbformat_minor": 5
}
