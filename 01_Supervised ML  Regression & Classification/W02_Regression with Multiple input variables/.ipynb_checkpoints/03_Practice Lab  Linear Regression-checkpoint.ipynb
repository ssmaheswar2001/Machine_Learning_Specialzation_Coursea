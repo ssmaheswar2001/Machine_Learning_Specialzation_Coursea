{
 "cells": [
  {
   "cell_type": "markdown",
   "id": "5330f7fb",
   "metadata": {},
   "source": [
    "## Practice Lab : Linear Regression\n",
    "- We will implement linear regression with one variale to predidct profits for a restaurant franchise."
   ]
  },
  {
   "cell_type": "code",
   "execution_count": 1,
   "id": "fcbdf7c2",
   "metadata": {},
   "outputs": [],
   "source": [
    "import numpy as np\n",
    "import matplotlib.pyplot as plt\n",
    "import copy\n",
    "import math"
   ]
  },
  {
   "cell_type": "markdown",
   "id": "1ec94217",
   "metadata": {},
   "source": [
    "### Problem Statement\n",
    "Suppose we are the CEO of a resturant franchise and are considering different cities for opening a new outlet\n",
    "- We would like to expand the business to cities that may give your restaurant higher profits.\n",
    "- The chain already has resturants in various cities and we have data for profits and populations from the cities.\n",
    "- We also have data on cities that are candidates for new resturants.\n",
    "    - For these cities we have the city population.\n",
    "Can we use the data to help identify which cities may potentially give your business higher profites?"
   ]
  },
  {
   "cell_type": "markdown",
   "id": "d4978c98",
   "metadata": {},
   "source": [
    "#### Dataset\n",
    "- We will start loading the dataset for this task\n",
    "- "
   ]
  },
  {
   "cell_type": "code",
   "execution_count": null,
   "id": "0f66f769",
   "metadata": {},
   "outputs": [],
   "source": []
  }
 ],
 "metadata": {
  "kernelspec": {
   "display_name": "Python 3 (ipykernel)",
   "language": "python",
   "name": "python3"
  },
  "language_info": {
   "codemirror_mode": {
    "name": "ipython",
    "version": 3
   },
   "file_extension": ".py",
   "mimetype": "text/x-python",
   "name": "python",
   "nbconvert_exporter": "python",
   "pygments_lexer": "ipython3",
   "version": "3.11.5"
  }
 },
 "nbformat": 4,
 "nbformat_minor": 5
}
